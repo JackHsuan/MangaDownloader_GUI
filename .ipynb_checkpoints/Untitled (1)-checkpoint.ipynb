{
 "cells": [
  {
   "cell_type": "code",
   "execution_count": 1,
   "metadata": {},
   "outputs": [],
   "source": [
    "from PyQt5.QtWidgets import QApplication, QWidget, QLabel,QPushButton,QLineEdit,QMessageBox, QVBoxLayout,QRadioButton,QListWidget,QListWidgetItem ,QHBoxLayout\n",
    "from PyQt5.QtGui import QIcon, QPixmap\n",
    "from PyQt5 import QtCore\n",
    "import sys\n",
    "import requests\n",
    "import time\n",
    "import pandas as pd\n",
    "import datetime\n",
    "from bs4 import BeautifulSoup\n",
    "from openpyxl import load_workbook\n",
    "import os\n",
    "import re\n",
    "import urllib\n",
    "import threading\n",
    "from functools import partial\n",
    "import requests.packages.urllib3\n",
    "requests.packages.urllib3.disable_warnings()"
   ]
  },
  {
   "cell_type": "code",
   "execution_count": 2,
   "metadata": {},
   "outputs": [
    {
     "ename": "SystemExit",
     "evalue": "0",
     "output_type": "error",
     "traceback": [
      "An exception has occurred, use %tb to see the full traceback.\n",
      "\u001b[1;31mSystemExit\u001b[0m\u001b[1;31m:\u001b[0m 0\n"
     ]
    },
    {
     "name": "stderr",
     "output_type": "stream",
     "text": [
      "c:\\python37\\lib\\site-packages\\IPython\\core\\interactiveshell.py:3351: UserWarning: To exit: use 'exit', 'quit', or Ctrl-D.\n",
      "  warn(\"To exit: use 'exit', 'quit', or Ctrl-D.\", stacklevel=1)\n"
     ]
    }
   ],
   "source": [
    "class App(QWidget):\n",
    "    \n",
    "    def __init__(self):\n",
    "        super().__init__()\n",
    "        self.title = 'MangaDownloader'\n",
    "        self.left = 10\n",
    "        self.top = 10\n",
    "        self.width = 600\n",
    "        self.height = 800\n",
    "        \n",
    "        \n",
    "        \n",
    "        self.my_list = QListWidget()\n",
    "        self.whole_layout = QVBoxLayout()\n",
    "        self.mangaInfo = QVBoxLayout()\n",
    "        self.manga_layout = QHBoxLayout()\n",
    "        self.bt_layout = QHBoxLayout()\n",
    "        self.setLayout(self.whole_layout)\n",
    "        self.initUI()\n",
    "\n",
    "    def initUI(self):\n",
    "        self.setWindowTitle(self.title)\n",
    "        self.count = 1\n",
    "        data_dict = self.Manga_info(self.count)\n",
    "        chapter = self.Manga_chapterList(data_dict['UpdateComicItems'][0]['UrlKey'])\n",
    "        \n",
    "        # Create widget\n",
    "        self.label = QLabel(self)\n",
    "        pixmap = QPixmap(str('%s.jpg'%str(self.count)))\n",
    "        self.label.setFixedSize(200,300)\n",
    "#         self.label.setGeometry(40,20,200,300)\n",
    "        self.label.setPixmap(pixmap)\n",
    "        \n",
    "        self.textbox = QLabel(self)\n",
    "#         self.textbox.setGeometry(50,340,20,200)\n",
    "#         self.textbox.resize(100,50)\n",
    "        self.textbox.setText(data_dict['UpdateComicItems'][0]['Title'])\n",
    "\n",
    "        \n",
    "\n",
    "        self.mangaInfo.addWidget(self.label)\n",
    "        self.mangaInfo.addWidget(self.textbox)\n",
    "        self.my_widget_1 = QWidget()\n",
    "        \n",
    "        self.my_widget_1.setLayout(self.mangaInfo)\n",
    "        self.manga_layout.addWidget(self.my_widget_1)\n",
    "        self.create_chapter_list(data_dict,chapter)\n",
    "        \n",
    "        \n",
    "        \n",
    "        \n",
    "        self.my_widget = QWidget()\n",
    "        self.my_widget.setLayout(self.manga_layout)\n",
    "        \n",
    "        self.whole_layout.addWidget(self.my_widget)\n",
    "        \n",
    "#         self.page_text = QLabel(str(self.count))\n",
    "#         self.page_text.setParent(self)\n",
    "# #         self.page_text.setGeometry(300,400,10,30)\n",
    "#         self.prev_button = QPushButton('<')\n",
    "#         self.prev_button.setParent(self)\n",
    "# #         self.prev_button.setGeometry(250,400,50,30)\n",
    "#         self.next_button = QPushButton('>')\n",
    "#         self.next_button.setParent(self)\n",
    "# #         self.next_button.setGeometry(350,400,50,30)\n",
    "#         self.prev_button.clicked.connect(self.preb_button_click)\n",
    "#         self.next_button.clicked.connect(self.next_button_click)\n",
    "#         self.bt_layout.addWidget(self.prev_button)\n",
    "#         self.bt_layout.addWidget(self.page_text)\n",
    "#         self.bt_layout.addWidget(self.next_button)\n",
    "#         self.my_widget_2 = QWidget()\n",
    "#         self.my_widget_2.setLayout(self.bt_layout)\n",
    "#         self.whole_layout.addWidget(self.my_widget_2)\n",
    "\n",
    "        self.create_pre_nex_bt()\n",
    "        self.resize(800, 600)\n",
    "        \n",
    "        self.show()\n",
    "    \n",
    "    def create_pre_nex_bt(self):\n",
    "        try:\n",
    "            self.my_widget_2.close()\n",
    "        except:\n",
    "            pass\n",
    "        self.page_text = QLabel(str(self.count))\n",
    "        self.page_text.setParent(self)\n",
    "        self.page_text.setAlignment(QtCore.Qt.AlignCenter | QtCore.Qt.AlignVCenter)\n",
    "\n",
    "#         self.page_text.setGeometry(300,400,10,30)\n",
    "        self.prev_button = QPushButton('<')\n",
    "        self.prev_button.setParent(self)\n",
    "#         self.prev_button.setGeometry(250,400,50,30)\n",
    "        self.next_button = QPushButton('>')\n",
    "        self.next_button.setParent(self)\n",
    "#         self.next_button.setGeometry(350,400,50,30)\n",
    "        self.prev_button.clicked.connect(self.preb_button_click)\n",
    "        self.next_button.clicked.connect(self.next_button_click)\n",
    "        self.bt_layout.addWidget(self.prev_button)\n",
    "        self.bt_layout.addWidget(self.page_text)\n",
    "        self.bt_layout.addWidget(self.next_button)\n",
    "        self.my_widget_2 = QWidget()\n",
    "        self.my_widget_2.setLayout(self.bt_layout)\n",
    "        self.whole_layout.addWidget(self.my_widget_2)\n",
    "    \n",
    "    def create_chapter_list(self,data_dict,chapter):\n",
    "        try:\n",
    "            self.my_list.close()\n",
    "        except:\n",
    "            pass\n",
    "        self.my_list = QListWidget()\n",
    "        self.my_list.setParent(self)\n",
    "#         self.my_list.move(300,100)\n",
    "        for i,key in zip(range(len(chapter)),chapter):\n",
    "            download_dict = {\"manga_src\":chapter[key][0],\n",
    "                             \"manga_name\":data_dict['UpdateComicItems'][0]['Title'],\n",
    "                             \"manga_chap\":key}\n",
    "            #新建个Item\n",
    "            item = QListWidgetItem()\n",
    "            \n",
    "            #将item添加到list\n",
    "            self.my_list.addItem(item)\n",
    "            \n",
    "            button = QPushButton(key)\n",
    "#             button.setFixedSize(50,100)\n",
    "            button.clicked.connect(partial(self.onClicked,download_dict))\n",
    "            self.my_list.setItemWidget(item,button)\n",
    "#         self.my_list.setFixedSize(200,100)\n",
    "        self.manga_layout.addWidget(self.my_list)\n",
    "        self.my_list.show()\n",
    "    \n",
    "    def next_button_click(self):\n",
    "#         self.create_pre_nex_bt()\n",
    "        self.count = self.count+1\n",
    "        data_dict = self.Manga_info(self.count)\n",
    "        chapter = self.Manga_chapterList(data_dict['UpdateComicItems'][0]['UrlKey'])\n",
    "        self.create_chapter_list(data_dict,chapter)\n",
    "\n",
    "        pixmap = QPixmap(str('%s.jpg'%str(self.count)))\n",
    "        self.label.setPixmap(pixmap)\n",
    "        self.page_text.setText(str(self.count))\n",
    "        self.textbox.setText(data_dict['UpdateComicItems'][0]['Title'])\n",
    "\n",
    "    def preb_button_click(self):\n",
    "#         self.create_pre_nex_bt()\n",
    "        if(self.count>1):\n",
    "            self.count = self.count-1\n",
    "\n",
    "            data_dict = self.Manga_info(self.count)\n",
    "            chapter = self.Manga_chapterList(data_dict['UpdateComicItems'][0]['UrlKey'])\n",
    "            self.create_chapter_list(data_dict,chapter)\n",
    "\n",
    "            pixmap = QPixmap(str('%s.jpg'%str(self.count)))\n",
    "            self.label.setPixmap(pixmap)\n",
    "            self.page_text.setText(str(self.count))\n",
    "            self.textbox.setText(data_dict['UpdateComicItems'][0]['Title'])\n",
    "        else:\n",
    "            buttonReply = QMessageBox.question(self, '提醒', \"已經在最前面了\", QMessageBox.Ok, QMessageBox.Ok)\n",
    "            if buttonReply == QMessageBox.Ok:\n",
    "                print('Yes clicked.')\n",
    "\n",
    "    def Manga_info(self,pageindex):\n",
    "        Web_Site_URL = \"http://www.manhuaren.com/manhua-list-area36-s2/dm5.ashx?\"\n",
    "        user_agent = 'Mozilla/5.0 (Windows NT 6.1; WOW64; rv:50.0) Gecko/20100101 Firefox/50.0'\n",
    "        headers = { 'User-Agent' : user_agent }\n",
    "        form_data = {\n",
    "            'action':'getclasscomics',\n",
    "            'pageindex':pageindex,\n",
    "            'pagesize':1,\n",
    "            'categoryid':0,\n",
    "            'tagid':0,\n",
    "            'status':0,\n",
    "            'usergroup':0,\n",
    "            'pay':-1,\n",
    "            'areaid':36,\n",
    "            'sort':2,\n",
    "            'iscopyright':0}\n",
    "\n",
    "        data_dict = requests.post(Web_Site_URL,headers=headers,data=form_data,verify = False).json()\n",
    "        threading.Thread(target = self.Manga_make_jpg,args = (data_dict,)).start()\n",
    "        return data_dict\n",
    "\n",
    "    def Manga_make_jpg(self,data_dict):\n",
    "        img_url = data_dict['UpdateComicItems'][0]['ShowPicUrlB']\n",
    "        res = requests.get(img_url,verify = False).content\n",
    "        with open('%s.jpg'%str(self.count),'wb') as f:     #二進位制寫入\n",
    "            f.write(res)\n",
    "\n",
    "    def Manga_chapterList(self,manga_UrlKey):\n",
    "        manga_index = 'http://www.manhuaren.com/%s/?from=/manhua-list-area36-s2/'%manga_UrlKey\n",
    "        user_agent = 'Mozilla/5.0 (Windows NT 6.1; WOW64; rv:50.0) Gecko/20100101 Firefox/50.0'\n",
    "        headers = { 'User-Agent' : user_agent }\n",
    "        index = requests.get(manga_index,headers=headers, verify = False)\n",
    "        soup = BeautifulSoup(index.text,\"lxml\")\n",
    "        chapterRawLists = soup.find_all('a',class_='chapteritem')\n",
    "        chapter_list = {}\n",
    "        for i in chapterRawLists:\n",
    "            chapter_list[i.text] = i.get_attribute_list('href')\n",
    "        return chapter_list\n",
    "    \n",
    "    def onClicked(self,download_dict):\n",
    "        button = self.sender()\n",
    "        button.close()\n",
    "        threading.Thread(target = self.download_manga,args = (download_dict,)).start()\n",
    "        \n",
    "    def download_manga(self,download_dict):\n",
    "        print(download_dict)\n",
    "        manga_src = download_dict['manga_src']\n",
    "        manga_name = download_dict['manga_name']\n",
    "        manga_chap = download_dict['manga_chap']\n",
    "        manga_index = ('https://www.manhuaren.com/%s/'%(manga_src))\n",
    "        user_agent = 'Mozilla/5.0 (Windows NT 6.1; WOW64; rv:50.0) Gecko/20100101 Firefox/50.0'\n",
    "        headers = { 'User-Agent' : user_agent }\n",
    "        index = requests.get(manga_index,headers=headers)\n",
    "        soup = BeautifulSoup(index.text,\"lxml\")\n",
    "        Episode = soup.find_all('script')\n",
    "        image_URL_part = str(Episode[-3]).split(\"'\")[-4].split(\"|\")\n",
    "        \n",
    "        pages = []\n",
    "        for pt in image_URL_part:\n",
    "            if (pt.find(\"_\")!= (-1)):\n",
    "                pages.append(pt)\n",
    "\n",
    "        url_base = re.split('\\.|/|-|://|\\?|=|&',str(Episode[-3]).split(\"'\")[-7])\n",
    "        print(url_base)\n",
    "        print(image_URL_part)\n",
    "        # a = 10\n",
    "        url_sample = []\n",
    "        for i in range(len(url_base)):\n",
    "            if( i == 11):\n",
    "                url_sample.append(\"Pages_number\")\n",
    "                continue\n",
    "            if(url_base[i].isdigit()):\n",
    "#                 if((i)==5):\n",
    "#                     url_sample.append(url_base[i])\n",
    "#                 else:\n",
    "                url_sample.append(image_URL_part[int(url_base[i])])\n",
    "            elif(url_base[i].islower()):\n",
    "                url_sample.append(image_URL_part[int((ord(url_base[i])-87))])\n",
    "            else:\n",
    "                url_sample.append(url_base[i][0])\n",
    "        print(url_sample)\n",
    "        for i in pages:\n",
    "            url_sample[11] = i\n",
    "            url = ('%s://%s-%s-%s-%s-%s.%s.%s/%s/%s/%s/%s.%s?%s=%s&%s=%s&%s=%s')%tuple(url_sample)\n",
    "            print(url)\n",
    "#             self.download_manga_page(url,manga_name,manga_chap,str(i),img_tp)\n",
    "            \n",
    "            try:\n",
    "                try:\n",
    "                    os.mkdir((\"./%s/\")%(manga_name))\n",
    "                except Exception as e:\n",
    "#                     print(e)\n",
    "                    pass\n",
    "                try:\n",
    "                    os.mkdir((\"./%s/%s/\")%(manga_name,manga_chap))\n",
    "                except Exception as e:\n",
    "                    pass\n",
    "#                     print(e)\n",
    "                if (os.path.exists('./%s/%s/%s.%s'%(manga_name,manga_chap,str(i),url_sample[12]))):\n",
    "                    continue\n",
    "                else:\n",
    "                    res = requests.get(url,verify = False).content\n",
    "                    with open('./%s/%s/%s.%s'%(manga_name,manga_chap,str(i),url_sample[12]),'wb') as f:     #二進位制寫入\n",
    "                        f.write(res)\n",
    "            except Exception as e:\n",
    "                print(e)\n",
    "                continue\n",
    "            \n",
    "if __name__ == '__main__':\n",
    "    app = QApplication(sys.argv)\n",
    "    ex = App()\n",
    "#     app.exec_()\n",
    "    sys.exit(app.exec_())\n"
   ]
  },
  {
   "cell_type": "code",
   "execution_count": null,
   "metadata": {},
   "outputs": [],
   "source": [
    "Web_Site_URL = \"http://www.manhuaren.com/manhua-list-area36-s2/dm5.ashx?\"\n",
    "user_agent = 'Mozilla/5.0 (Windows NT 6.1; WOW64; rv:50.0) Gecko/20100101 Firefox/50.0'\n",
    "headers = { 'User-Agent' : user_agent }\n",
    "form_data = {\n",
    "    'action':'getclasscomics',\n",
    "    'pageindex':1,\n",
    "    'pagesize':1,\n",
    "    'categoryid':0,\n",
    "    'tagid':0,\n",
    "    'status':0,\n",
    "    'usergroup':0,\n",
    "    'pay':-1,\n",
    "    'areaid':36,\n",
    "    'sort':2,\n",
    "    'iscopyright':0}\n",
    "\n",
    "data_dict = requests.post(Web_Site_URL,headers=headers,data=form_data,verify = False).json()\n",
    "print(data_dict)"
   ]
  },
  {
   "cell_type": "code",
   "execution_count": null,
   "metadata": {},
   "outputs": [],
   "source": [
    "data_dict"
   ]
  },
  {
   "cell_type": "code",
   "execution_count": null,
   "metadata": {},
   "outputs": [],
   "source": [
    "img_url = data_dict['UpdateComicItems'][0]['ShowPicUrlB']\n",
    "\n",
    "# 弄圖片\n",
    "# res = requests.get(img_url).content\n",
    "# with open('美女.jpg','wb') as f:     #二進位制寫入\n",
    "#     f.write(res)"
   ]
  },
  {
   "cell_type": "code",
   "execution_count": 6,
   "metadata": {},
   "outputs": [],
   "source": [
    "# manga_index = 'https://www.manhuaren.com/%s/?from=/manhua-list-area36-s2/'%data_dict['UpdateComicItems'][0]['UrlKey']\n",
    "manga_index = 'https://www.manhuaren.com/m1036548/'\n",
    "user_agent = 'Mozilla/5.0 (Windows NT 6.1; WOW64; rv:50.0) Gecko/20100101 Firefox/50.0'\n",
    "headers = { 'User-Agent' : user_agent }\n",
    "index = requests.get(manga_index,headers=headers)\n",
    "soup = BeautifulSoup(index.text,\"lxml\")\n",
    "Episode = soup.find_all('script')"
   ]
  },
  {
   "cell_type": "code",
   "execution_count": 33,
   "metadata": {},
   "outputs": [
    {
     "name": "stdout",
     "output_type": "stream",
     "text": [
      "{}\n"
     ]
    }
   ],
   "source": [
    "Episode = soup.find_all('a',class_='chapteritem')\n",
    "# print(Episode)\n",
    "# print(Episode.get_attribute_list('href'))\n",
    "data_dict = {}\n",
    "for i in Episode:\n",
    "    data_dict[i.text] = i.get_attribute_list('href')\n",
    "print(data_dict)"
   ]
  },
  {
   "cell_type": "code",
   "execution_count": 39,
   "metadata": {},
   "outputs": [],
   "source": [
    "for i in data_dict:\n",
    "    print(i)\n",
    "    print(data_dict[i][0])"
   ]
  },
  {
   "cell_type": "code",
   "execution_count": 46,
   "metadata": {},
   "outputs": [
    {
     "name": "stdout",
     "output_type": "stream",
     "text": [
      ".replace(/^/,String)){while(c--)d[e(c)]=k[c]||e(c);k=[function(e){return d[e]}];e=function(){return\n",
      "1036548||cdnmanhua|219|42|net|250|manhua1034|https|139|2aca0c184c5ae287a077cfd505d7da03|key|104|type|41644|jpg|cid|4_5848|5_1968|6_6975|3_8315|newImgs|1_3807|2_4934|7_3713|12_8102|var|13_6040|11_8039|8_4298|9_2104|10_9801\n",
      "|\n"
     ]
    }
   ],
   "source": [
    "# print(str(Episode[-3]).split(\"'\"))\n",
    "for i in str(Episode[-3]).split(\"'\"):\n",
    "    if (\"|\") in i :\n",
    "        print(i)"
   ]
  },
  {
   "cell_type": "code",
   "execution_count": 47,
   "metadata": {},
   "outputs": [
    {
     "name": "stdout",
     "output_type": "stream",
     "text": [
      "1036548||cdnmanhua|219|42|net|250|manhua1034|https|139|2aca0c184c5ae287a077cfd505d7da03|key|104|type|41644|jpg|cid|4_5848|5_1968|6_6975|3_8315|newImgs|1_3807|2_4934|7_3713|12_8102|var|13_6040|11_8039|8_4298|9_2104|10_9801\n"
     ]
    }
   ],
   "source": [
    "m1036548 = str(Episode[-3]).split(\"'\")[-4]\n",
    "print(m1036548)"
   ]
  },
  {
   "cell_type": "code",
   "execution_count": 44,
   "metadata": {},
   "outputs": [
    {
     "name": "stdout",
     "output_type": "stream",
     "text": [
      "1032707||cdnmanhua|219|42|net|104|manhua1034|https|250|c3eaafdadb65aebaa081e5688bdd8c76|key|139|type|41644|cid|jpg|4_6571|3_4703|2_4223|1_5983|newImgs|5_2455|var|9_6972|8_2950|6_5977|7_7549\n"
     ]
    }
   ],
   "source": [
    "m1032707= str(Episode[-3]).split(\"'\")[-4]\n",
    "print(m1032707)"
   ]
  },
  {
   "cell_type": "code",
   "execution_count": 41,
   "metadata": {},
   "outputs": [
    {
     "name": "stdout",
     "output_type": "stream",
     "text": [
      "1036643||cdnmanhua|139|62|net|104|manhua1034|https|250|e70bbb5fda5a2b74c80821f76abbef65|key|219|type|cid|61636|jpg|3_5550|2_3851|1_6965|newImgs|4_5680|var|7_1786|5_5709|6_1096\n"
     ]
    }
   ],
   "source": [
    "m1036643 = str(Episode[-3]).split(\"'\")[-4]\n",
    "print(m1036643)"
   ]
  },
  {
   "cell_type": "code",
   "execution_count": 37,
   "metadata": {},
   "outputs": [
    {
     "name": "stdout",
     "output_type": "stream",
     "text": [
      "index: 0\n",
      "1036643\n",
      "index: 1\n",
      "\n",
      "index: 2\n",
      "cdnmanhua\n",
      "index: 3\n",
      "139\n",
      "index: 4\n",
      "62\n",
      "index: 5\n",
      "net\n",
      "index: 6\n",
      "104\n",
      "index: 7\n",
      "manhua1034\n",
      "index: 8\n",
      "https\n",
      "index: 9\n",
      "250\n",
      "index: 10\n",
      "e70bbb5fda5a2b74c80821f76abbef65\n",
      "index: 11\n",
      "key\n",
      "index: 12\n",
      "219\n",
      "index: 13\n",
      "type\n",
      "index: 14\n",
      "cid\n",
      "index: 15\n",
      "61636\n",
      "index: 16\n",
      "jpg\n",
      "index: 17\n",
      "3_5550\n",
      "index: 18\n",
      "2_3851\n",
      "index: 19\n",
      "1_6965\n",
      "index: 20\n",
      "newImgs\n",
      "index: 21\n",
      "4_5680\n",
      "index: 22\n",
      "var\n",
      "index: 23\n",
      "7_1786\n",
      "index: 24\n",
      "5_5709\n",
      "index: 25\n",
      "6_1096\n"
     ]
    }
   ],
   "source": [
    "for i,URL_pt in zip(range(len(str(Episode[-3]).split(\"'\")[-4].split('|'))),str(Episode[-3]).split(\"'\")[-4].split('|')):\n",
    "    print(\"index:\",i)\n",
    "    print(URL_pt)"
   ]
  },
  {
   "cell_type": "code",
   "execution_count": 31,
   "metadata": {},
   "outputs": [
    {
     "name": "stdout",
     "output_type": "stream",
     "text": [
      "index: 0\n",
      "1032707\n",
      "index: 1\n",
      "\n",
      "index: 2\n",
      "cdnmanhua\n",
      "index: 3\n",
      "219\n",
      "index: 4\n",
      "42\n",
      "index: 5\n",
      "net\n",
      "index: 6\n",
      "104\n",
      "index: 7\n",
      "manhua1034\n",
      "index: 8\n",
      "https\n",
      "index: 9\n",
      "250\n",
      "index: 10\n",
      "c3eaafdadb65aebaa081e5688bdd8c76\n",
      "index: 11\n",
      "key\n",
      "index: 12\n",
      "139\n",
      "index: 13\n",
      "type\n",
      "index: 14\n",
      "41644\n",
      "index: 15\n",
      "cid\n",
      "index: 16\n",
      "jpg\n",
      "index: 17\n",
      "4_6571\n",
      "index: 18\n",
      "3_4703\n",
      "index: 19\n",
      "2_4223\n",
      "index: 20\n",
      "1_5983\n",
      "index: 21\n",
      "newImgs\n",
      "index: 22\n",
      "5_2455\n",
      "index: 23\n",
      "var\n",
      "index: 24\n",
      "9_6972\n",
      "index: 25\n",
      "8_2950\n",
      "index: 26\n",
      "6_5977\n",
      "index: 27\n",
      "7_7549\n"
     ]
    }
   ],
   "source": [
    "for i,URL_pt in zip(range(len(str(Episode[-3]).split(\"'\")[-4].split('|'))),str(Episode[-3]).split(\"'\")[-4].split('|')):\n",
    "    print(\"index:\",i)\n",
    "    print(URL_pt)"
   ]
  },
  {
   "cell_type": "code",
   "execution_count": 63,
   "metadata": {},
   "outputs": [
    {
     "name": "stdout",
     "output_type": "stream",
     "text": [
      "0\n",
      "1032707\n",
      "True\n",
      "1036548 1032707 1036643\n",
      "\n",
      "1\n",
      "\n",
      "False\n",
      "  \n",
      "\n",
      "2\n",
      "cdnmanhua\n",
      "False\n",
      "cdnmanhua cdnmanhua cdnmanhua\n",
      "\n",
      "3\n",
      "219\n",
      "True\n",
      "219 219 139\n",
      "\n",
      "4\n",
      "42\n",
      "True\n",
      "42 42 62\n",
      "\n",
      "5\n",
      "net\n",
      "False\n",
      "net net net\n",
      "\n",
      "6\n",
      "104\n",
      "True\n",
      "250 104 104\n",
      "\n",
      "7\n",
      "manhua1034\n",
      "False\n",
      "manhua1034 manhua1034 manhua1034\n",
      "\n",
      "8\n",
      "https\n",
      "False\n",
      "https https https\n",
      "\n",
      "9\n",
      "250\n",
      "True\n",
      "139 250 250\n",
      "\n",
      "10\n",
      "c3eaafdadb65aebaa081e5688bdd8c76\n",
      "False\n",
      "2aca0c184c5ae287a077cfd505d7da03 c3eaafdadb65aebaa081e5688bdd8c76 e70bbb5fda5a2b74c80821f76abbef65\n",
      "\n",
      "11\n",
      "key\n",
      "False\n",
      "key key key\n",
      "\n",
      "12\n",
      "139\n",
      "True\n",
      "104 139 219\n",
      "\n",
      "13\n",
      "type\n",
      "False\n",
      "type type type\n",
      "\n",
      "14\n",
      "41644\n",
      "True\n",
      "41644 41644 cid\n",
      "\n",
      "15\n",
      "cid\n",
      "False\n",
      "jpg cid 61636\n",
      "\n",
      "16\n",
      "jpg\n",
      "False\n",
      "cid jpg jpg\n",
      "\n",
      "17\n",
      "4_6571\n",
      "False\n",
      "4_5848 4_6571 3_5550\n",
      "\n",
      "18\n",
      "3_4703\n",
      "False\n",
      "5_1968 3_4703 2_3851\n",
      "\n",
      "19\n",
      "2_4223\n",
      "False\n",
      "6_6975 2_4223 1_6965\n",
      "\n",
      "20\n",
      "1_5983\n",
      "False\n",
      "3_8315 1_5983 newImgs\n",
      "\n",
      "21\n",
      "newImgs\n",
      "False\n",
      "newImgs newImgs 4_5680\n",
      "\n",
      "22\n",
      "5_2455\n",
      "False\n",
      "1_3807 5_2455 var\n",
      "\n",
      "23\n",
      "var\n",
      "False\n",
      "2_4934 var 7_1786\n",
      "\n",
      "24\n",
      "9_6972\n",
      "False\n",
      "7_3713 9_6972 5_5709\n",
      "\n",
      "25\n",
      "8_2950\n",
      "False\n",
      "12_8102 8_2950 6_1096\n",
      "\n",
      "26\n",
      "6_5977\n",
      "False\n"
     ]
    },
    {
     "ename": "IndexError",
     "evalue": "list index out of range",
     "output_type": "error",
     "traceback": [
      "\u001b[0;31m---------------------------------------------------------------------------\u001b[0m",
      "\u001b[0;31mIndexError\u001b[0m                                Traceback (most recent call last)",
      "\u001b[0;32m<ipython-input-63-708eafe89cdc>\u001b[0m in \u001b[0;36m<module>\u001b[0;34m\u001b[0m\n\u001b[1;32m      5\u001b[0m     \u001b[0mprint\u001b[0m\u001b[0;34m(\u001b[0m\u001b[0mm1032707\u001b[0m\u001b[0;34m.\u001b[0m\u001b[0msplit\u001b[0m\u001b[0;34m(\u001b[0m\u001b[0;34m'|'\u001b[0m\u001b[0;34m)\u001b[0m\u001b[0;34m[\u001b[0m\u001b[0mi\u001b[0m\u001b[0;34m]\u001b[0m\u001b[0;34m.\u001b[0m\u001b[0misdigit\u001b[0m\u001b[0;34m(\u001b[0m\u001b[0;34m)\u001b[0m\u001b[0;34m)\u001b[0m\u001b[0;34m\u001b[0m\u001b[0;34m\u001b[0m\u001b[0m\n\u001b[1;32m      6\u001b[0m \u001b[0;34m\u001b[0m\u001b[0m\n\u001b[0;32m----> 7\u001b[0;31m     \u001b[0mprint\u001b[0m\u001b[0;34m(\u001b[0m\u001b[0mm1036548\u001b[0m\u001b[0;34m.\u001b[0m\u001b[0msplit\u001b[0m\u001b[0;34m(\u001b[0m\u001b[0;34m'|'\u001b[0m\u001b[0;34m)\u001b[0m\u001b[0;34m[\u001b[0m\u001b[0mi\u001b[0m\u001b[0;34m]\u001b[0m\u001b[0;34m,\u001b[0m\u001b[0mm1032707\u001b[0m\u001b[0;34m.\u001b[0m\u001b[0msplit\u001b[0m\u001b[0;34m(\u001b[0m\u001b[0;34m'|'\u001b[0m\u001b[0;34m)\u001b[0m\u001b[0;34m[\u001b[0m\u001b[0mi\u001b[0m\u001b[0;34m]\u001b[0m\u001b[0;34m,\u001b[0m\u001b[0mm1036643\u001b[0m\u001b[0;34m.\u001b[0m\u001b[0msplit\u001b[0m\u001b[0;34m(\u001b[0m\u001b[0;34m'|'\u001b[0m\u001b[0;34m)\u001b[0m\u001b[0;34m[\u001b[0m\u001b[0mi\u001b[0m\u001b[0;34m]\u001b[0m\u001b[0;34m)\u001b[0m\u001b[0;34m\u001b[0m\u001b[0;34m\u001b[0m\u001b[0m\n\u001b[0m\u001b[1;32m      8\u001b[0m     \u001b[0mprint\u001b[0m\u001b[0;34m(\u001b[0m\u001b[0;34m)\u001b[0m\u001b[0;34m\u001b[0m\u001b[0;34m\u001b[0m\u001b[0m\n",
      "\u001b[0;31mIndexError\u001b[0m: list index out of range"
     ]
    }
   ],
   "source": [
    "# print(max(len(m1036548.split('|')),len(m1032707.split('|')),len(m1036643.split('|'))))\n",
    "for i in range(max(len(m1036548),len(m1032707),len(m1036643))):\n",
    "    print(i)\n",
    "    print(m1032707.split('|')[i])\n",
    "    print(m1032707.split('|')[i].isdigit())\n",
    "    \n",
    "    print(m1036548.split('|')[i],m1032707.split('|')[i],m1036643.split('|')[i])\n",
    "    print()"
   ]
  },
  {
   "cell_type": "code",
   "execution_count": 61,
   "metadata": {},
   "outputs": [
    {
     "name": "stdout",
     "output_type": "stream",
     "text": [
      "https://manhua1034-104-250-139-219.cdnmanhua.net/42/41644/1032707\n"
     ]
    }
   ],
   "source": [
    "url = '%s://%s-%s-%s-%s-%s.%s.%s/%s/%s/%s/'%(m1032707.split('|')[8],\n",
    "                                    m1032707.split('|')[7],\n",
    "                                    m1032707.split('|')[6],\n",
    "                                    m1032707.split('|')[9],\n",
    "                                    m1032707.split('|')[12],\n",
    "                                    m1032707.split('|')[3],\n",
    "                                    m1032707.split('|')[2],\n",
    "                                    m1032707.split('|')[5],\n",
    "                                    m1032707.split('|')[4],\n",
    "                                    m1032707.split('|')[14],\n",
    "                                    m1032707.split('|')[0],)\n",
    "print(url)\n",
    "# https://manhua1034-104-250-139-219.cdnmanhua.net/42/41644/1032707/5_2455.jpg?cid=1032707&type=1"
   ]
  },
  {
   "cell_type": "code",
   "execution_count": 54,
   "metadata": {},
   "outputs": [
    {
     "name": "stdout",
     "output_type": "stream",
     "text": [
      "['1032707', '', 'cdnmanhua', '219', '42', 'net', '104', 'manhua1034', 'https', '250', 'c3eaafdadb65aebaa081e5688bdd8c76', 'key', '139', 'type', '41644', 'cid', 'jpg', '4_6571', '3_4703', '2_4223', '1_5983', 'newImgs', '5_2455', 'var', '9_6972', '8_2950', '6_5977', '7_7549']\n"
     ]
    }
   ],
   "source": [
    "print(m1032707.split('|'))"
   ]
  },
  {
   "cell_type": "code",
   "execution_count": 15,
   "metadata": {},
   "outputs": [
    {
     "name": "stdout",
     "output_type": "stream",
     "text": [
      "manhua1034\n",
      "**********\n",
      "61646\n",
      "jpg\n",
      "unknow: jpg\n",
      "cid\n",
      "6_1094\n",
      "5_1290\n",
      "8_6005\n",
      "7_1775\n",
      "4_3816\n",
      "1_3570\n",
      "newImgs\n",
      "3_5755\n",
      "2_1212\n",
      "15_8684\n",
      "14_6463\n",
      "16_3013\n",
      "var\n",
      "13_9087\n",
      "10_4495\n",
      "9_3774\n",
      "12_9828\n",
      "11_1023\n",
      "https://manhua1034-104-250-139-219.cdnmanhua.net/62/61646/1036695/6_1094.jpg?cid=1036695&type=1\n",
      "https://manhua1034-104-250-139-219.cdnmanhua.net/62/61646/1036695/5_1290.jpg?cid=1036695&type=1\n",
      "https://manhua1034-104-250-139-219.cdnmanhua.net/62/61646/1036695/8_6005.jpg?cid=1036695&type=1\n",
      "https://manhua1034-104-250-139-219.cdnmanhua.net/62/61646/1036695/7_1775.jpg?cid=1036695&type=1\n",
      "https://manhua1034-104-250-139-219.cdnmanhua.net/62/61646/1036695/4_3816.jpg?cid=1036695&type=1\n",
      "https://manhua1034-104-250-139-219.cdnmanhua.net/62/61646/1036695/1_3570.jpg?cid=1036695&type=1\n",
      "https://manhua1034-104-250-139-219.cdnmanhua.net/62/61646/1036695/3_5755.jpg?cid=1036695&type=1\n",
      "https://manhua1034-104-250-139-219.cdnmanhua.net/62/61646/1036695/2_1212.jpg?cid=1036695&type=1\n",
      "https://manhua1034-104-250-139-219.cdnmanhua.net/62/61646/1036695/15_8684.jpg?cid=1036695&type=1\n",
      "https://manhua1034-104-250-139-219.cdnmanhua.net/62/61646/1036695/14_6463.jpg?cid=1036695&type=1\n",
      "https://manhua1034-104-250-139-219.cdnmanhua.net/62/61646/1036695/16_3013.jpg?cid=1036695&type=1\n",
      "https://manhua1034-104-250-139-219.cdnmanhua.net/62/61646/1036695/13_9087.jpg?cid=1036695&type=1\n",
      "https://manhua1034-104-250-139-219.cdnmanhua.net/62/61646/1036695/10_4495.jpg?cid=1036695&type=1\n",
      "https://manhua1034-104-250-139-219.cdnmanhua.net/62/61646/1036695/9_3774.jpg?cid=1036695&type=1\n",
      "https://manhua1034-104-250-139-219.cdnmanhua.net/62/61646/1036695/12_9828.jpg?cid=1036695&type=1\n",
      "https://manhua1034-104-250-139-219.cdnmanhua.net/62/61646/1036695/11_1023.jpg?cid=1036695&type=1\n"
     ]
    }
   ],
   "source": [
    "manga_src = 'm1036695'\n",
    "# manga_src = 'm1036643'\n",
    "# manga_src = 'm1036548'\n",
    "\n",
    "manga_index = ('https://www.manhuaren.com/%s/'%(manga_src))\n",
    "user_agent = 'Mozilla/5.0 (Windows NT 6.1; WOW64; rv:50.0) Gecko/20100101 Firefox/50.0'\n",
    "headers = { 'User-Agent' : user_agent }\n",
    "index = requests.get(manga_index,headers=headers)\n",
    "soup = BeautifulSoup(index.text,\"lxml\")\n",
    "Episode = soup.find_all('script')\n",
    "\n",
    "image_URL_part = str(Episode[-3]).split(\"'\")[-4].split(\"|\")\n",
    "pages = []\n",
    "Numbers = []\n",
    "for pt in image_URL_part[:14]:\n",
    "#     print(pt)\n",
    "    if(pt.isdigit()):\n",
    "        Numbers.append(pt)\n",
    "    elif (pt.find('manhua')!= (-1)):\n",
    "        first_domain = pt\n",
    "    else:\n",
    "        continue\n",
    "print(first_domain)\n",
    "print(\"**********\")\n",
    "for pt in image_URL_part[14:]:\n",
    "    print(pt)\n",
    "    if(pt == 'cid'):\n",
    "        continue\n",
    "    elif (pt.find(\"_\")!= (-1)):\n",
    "#         print(\"頁碼：\",pt) 1_xxx\n",
    "        pages.append(pt)\n",
    "    elif (pt.isdigit()):\n",
    "#         print(\"sid:\",pt) 41644\n",
    "        sid = pt\n",
    "    elif (pt == 'newImgs'):\n",
    "        continue\n",
    "    elif (pt == 'var'):\n",
    "        continue\n",
    "    else:\n",
    "        img_tp = pt #jpg/png/...\n",
    "        print(\"unknow:\",pt)\n",
    "for i in pages:\n",
    "    url = '%s://%s-%s-%s-%s-%s.%s.%s/%s/%s/%s/%s.%s?cid=%s&type=1'%('https',)\n",
    "    print(url)\n",
    "#     res = requests.get(url,verify = True).content\n",
    "#     with open('%s.jpg'%str(i),'wb') as f:     #二進位制寫入\n",
    "#         f.write(res)\n",
    "#https://manhua1034-104-250-139-219.cdnmanhua.net/62/61646/1036695/6_1094.jpg?cid=1036695&type=1\n",
    "# https://manhua1034-104-250-139-219.cdnmanhua.net/42/41644/1032707/5_2455.jpg?cid=1032707&type=1"
   ]
  },
  {
   "cell_type": "code",
   "execution_count": 13,
   "metadata": {},
   "outputs": [
    {
     "data": {
      "text/plain": [
       "['1036695', '219', '62', '250', '104', '139']"
      ]
     },
     "execution_count": 13,
     "metadata": {},
     "output_type": "execute_result"
    }
   ],
   "source": [
    "Numbers"
   ]
  },
  {
   "cell_type": "code",
   "execution_count": 3,
   "metadata": {},
   "outputs": [],
   "source": [
    "#https://manhua1034-104-250-139-219.cdnmanhua.net/62/61646/1036695/6_1094.jpg?cid=1036695&type=1\n",
    "imgurl = \"https://manhua1034-104-250-139-219.cdnmanhua.net/42/41644/1032707/5_2455.jpg?cid=1032707&type=1\"\n",
    "# os.mkdir(os.path.dirname(\"./%s/%s/\"%(\"海盗高达dust\",'第26話')))"
   ]
  },
  {
   "cell_type": "code",
   "execution_count": 27,
   "metadata": {},
   "outputs": [],
   "source": [
    "if not os.path.exists(os.path.dirname('./学妹前世是你妈/第16话')):\n",
    "    os.mkdir(('./学妹前世是你妈/'))\n",
    "    os.mkdir(('./学妹前世是你妈/第16话/'))\n",
    "# os.path.exists(os.path.dirname('./学妹前世是你妈/第16话/'))"
   ]
  },
  {
   "cell_type": "code",
   "execution_count": 5,
   "metadata": {},
   "outputs": [],
   "source": [
    "import urllib"
   ]
  },
  {
   "cell_type": "code",
   "execution_count": 7,
   "metadata": {},
   "outputs": [
    {
     "data": {
      "text/plain": [
       "('pic.jpg', <http.client.HTTPMessage at 0x11447b290>)"
      ]
     },
     "execution_count": 7,
     "metadata": {},
     "output_type": "execute_result"
    }
   ],
   "source": [
    "opener=urllib.request.build_opener()\n",
    "\n",
    "\n",
    "opener.addheaders=[('User-Agent','Mozilla/5.0 (Windows NT 6.1; WOW64) AppleWebKit/537.36 (KHTML, like Gecko) Chrome/36.0.1941.0 Safari/537.36')]\n",
    "urllib.request.install_opener(opener)\n",
    "\n",
    "urllib.request.urlretrieve(imgurl,'pic.jpg')\n"
   ]
  },
  {
   "cell_type": "code",
   "execution_count": null,
   "metadata": {},
   "outputs": [],
   "source": []
  },
  {
   "cell_type": "code",
   "execution_count": 17,
   "metadata": {},
   "outputs": [
    {
     "name": "stdout",
     "output_type": "stream",
     "text": [
      "['1036911', '', '16', 'cdnmanhua', 'net', 'manhua1034', 'https', '250', '104', '15558', '150', '877f189c0e8be38a04770e3bd15d8c2f', 'type', 'key', 'jpg', 'cid', '16_4081', '17_7147', '15_5561', '13_4442', '14_6631', '12_1125', '23_1020', '21_8531', '22_2379', '18_6974', '19_7670', '20_1150', '3_9984', '4_3569', '5_9004', 'newImgs', '1_3382', '2_6395', '9_3642', '10_6873', '11_4974', '6_7191', '7_2753', '8_3389', '24_3174', '40_3182', '41_6738', '39_5940', '37_9336', '38_3247', '42_9798', '46_2226', '31_5099', '45_5565', '43_1275', '44_4378', '36_6048', '28_5527', '29_5192', '27_1639', '25_2243', '26_5306', '30_3831', '34_8756', '35_1363', '33_3303', 'var', '32_8727', '']\n"
     ]
    }
   ],
   "source": [
    "manga_index = ('https://www.manhuaren.com/m1036911/')\n",
    "user_agent = 'Mozilla/5.0 (Windows NT 6.1; WOW64; rv:50.0) Gecko/20100101 Firefox/50.0'\n",
    "headers = { 'User-Agent' : user_agent }\n",
    "index = requests.get(manga_index,headers=headers)\n",
    "soup = BeautifulSoup(index.text,\"lxml\")\n",
    "Episode = soup.find_all('script')\n",
    "# print(index.text)\n",
    "image_URL_part = str(Episode[-3]).split(\"'\")[-4].split(\"|\")\n",
    "print(image_URL_part)"
   ]
  },
  {
   "cell_type": "code",
   "execution_count": 30,
   "metadata": {},
   "outputs": [
    {
     "name": "stdout",
     "output_type": "stream",
     "text": [
      "['6', '5', '8', '7', 'a', '12', '3', '4', '2', '9', '0', 'L', 'e', 'f', '0', 'd', 'b', 'c', '1\\\\']\n",
      "['https', 'manhua1034', '104', '250', '150', '12', 'cdnmanhua', 'net', '16', '15558', '1036911', 'Pages_number', 'jpg', 'cid', '1036911', 'key', '877f189c0e8be38a04770e3bd15d8c2f', 'type', '1']\n",
      "https://manhua1034-104-250-150-12.cdnmanhua.net/16/15558/1036911/Pages_number.jpg?cid=1036911&key=877f189c0e8be38a04770e3bd15d8c2f&type=1\n"
     ]
    }
   ],
   "source": [
    "url_base = re.split('\\.|/|-|://|\\?|=|&',str(Episode[-3]).split(\"'\")[-7])\n",
    "print(url_base)\n",
    "# a = 10\n",
    "url_sample = []\n",
    "for i in range(len(url_base)):\n",
    "    if( i == 11):\n",
    "        url_sample.append(\"Pages_number\")\n",
    "        continue\n",
    "    if(url_base[i].isdigit()):\n",
    "        if((i)==5):\n",
    "            url_sample.append(url_base[i])\n",
    "        else:\n",
    "            url_sample.append(image_URL_part[int(url_base[i])])\n",
    "    elif(url_base[i].islower()):\n",
    "        url_sample.append(image_URL_part[int((ord(url_base[i])-87))])\n",
    "    else:\n",
    "        url_sample.append(url_base[i][0])\n",
    "print(url_sample)\n",
    "# print(re.split('\\.|/',url_sample))\n",
    "# page_url = re.split('\\.|/',url_sample)\n",
    "# del page_url[1]\n",
    "# print(page_url)\n",
    "print(('%s://%s-%s-%s-%s-%s.%s.%s/%s/%s/%s/%s.%s?%s=%s&%s=%s&%s=%s')%tuple(url_sample))"
   ]
  },
  {
   "cell_type": "code",
   "execution_count": 31,
   "metadata": {},
   "outputs": [
    {
     "data": {
      "text/plain": [
       "['https',\n",
       " 'manhua1034',\n",
       " '104',\n",
       " '250',\n",
       " '150',\n",
       " '12',\n",
       " 'cdnmanhua',\n",
       " 'net',\n",
       " '16',\n",
       " '15558',\n",
       " '1036911',\n",
       " 'Pages_number',\n",
       " 'jpg',\n",
       " 'cid',\n",
       " '1036911',\n",
       " 'key',\n",
       " '877f189c0e8be38a04770e3bd15d8c2f',\n",
       " 'type',\n",
       " '1']"
      ]
     },
     "execution_count": 31,
     "metadata": {},
     "output_type": "execute_result"
    }
   ],
   "source": [
    "# https://manhua1034-104-250-139-219.cdnmanhua.net/62/61646/1036695/6_1094.jpg?cid=1036695&type=1\n",
    "# 0://1-2-3-4-5.6.7/8/9/10/11.12?13=14&15=16\n",
    "url_sample"
   ]
  },
  {
   "cell_type": "code",
   "execution_count": 32,
   "metadata": {},
   "outputs": [
    {
     "name": "stdout",
     "output_type": "stream",
     "text": [
      "['https', 'manhua1034', '104', '250', '150', '12', 'cdnmanhua', 'net', '16', '15558', '1036911', '1_1234', 'jpg', 'cid', '1036911', 'key', '877f189c0e8be38a04770e3bd15d8c2f', 'type', '1']\n"
     ]
    }
   ],
   "source": [
    "url_sample[11] = '1_1234'\n",
    "print(url_sample)"
   ]
  },
  {
   "cell_type": "code",
   "execution_count": null,
   "metadata": {},
   "outputs": [],
   "source": []
  }
 ],
 "metadata": {
  "kernelspec": {
   "display_name": "Python 3",
   "language": "python",
   "name": "python3"
  },
  "language_info": {
   "codemirror_mode": {
    "name": "ipython",
    "version": 3
   },
   "file_extension": ".py",
   "mimetype": "text/x-python",
   "name": "python",
   "nbconvert_exporter": "python",
   "pygments_lexer": "ipython3",
   "version": "3.7.8"
  }
 },
 "nbformat": 4,
 "nbformat_minor": 4
}
